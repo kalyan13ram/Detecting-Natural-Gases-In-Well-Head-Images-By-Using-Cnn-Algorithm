{
 "cells": [
  {
   "cell_type": "markdown",
   "metadata": {
    "id": "aPnRE34GaJfw"
   },
   "source": [
    "# Import Packages"
   ]
  },
  {
   "cell_type": "code",
   "execution_count": null,
   "metadata": {
    "id": "gVeRC6aeaJfy"
   },
   "outputs": [],
   "source": [
    "\n",
    "import numpy as np\n",
    "import os\n",
    "from sklearn.metrics import confusion_matrix\n",
    "import seaborn as sn; sn.set(font_scale=1.4)\n",
    "from sklearn.utils import shuffle\n",
    "import matplotlib.pyplot as plt\n",
    "import cv2\n",
    "import tensorflow as tf\n",
    "from tqdm import tqdm"
   ]
  },
  {
   "cell_type": "code",
   "execution_count": null,
   "metadata": {
    "id": "WfT8PyiRaJfz"
   },
   "outputs": [],
   "source": [
    "class_names = ['Mixture','NoGas','Perfume','Smoke']\n",
    "class_names_label = {class_name:i for i, class_name in enumerate(class_names)}\n",
    "\n",
    "nb_classes = len(class_names)\n",
    "\n",
    "IMAGE_SIZE = (150, 150)"
   ]
  },
  {
   "cell_type": "markdown",
   "metadata": {
    "id": "5GnWSIhzaJfz"
   },
   "source": [
    "# Loading the Data\n",
    "We have to write a load_data function that load the images and the labels from the folder."
   ]
  },
  {
   "cell_type": "code",
   "execution_count": 3,
   "metadata": {
    "id": "d684vIT_aJfz"
   },
   "outputs": [],
   "source": [
    "def load_data():\n",
    "\n",
    "    datasets = [r'C:\\Users\\prath\\Music\\detection natural gases using cnn algorithem\\gas-lekage\\gas-lekage\\train', r'C:\\Users\\prath\\Music\\detection natural gases using cnn algorithem\\gas-lekage\\gas-lekage\\test']\n",
    "\n",
    "    output = []\n",
    "\n",
    "    # Iterate through training and test sets\n",
    "    for dataset in datasets:\n",
    "\n",
    "        images = []\n",
    "        labels = []\n",
    "\n",
    "        print(\"Loading {}\".format(dataset))\n",
    "\n",
    "        # Iterate through each folder corresponding to a category\n",
    "        for folder in os.listdir(dataset):\n",
    "            label = class_names_label[folder]\n",
    "\n",
    "            # Iterate through each image in our folder\n",
    "            for file in tqdm(os.listdir(os.path.join(dataset, folder))):\n",
    "\n",
    "                # Get the path name of the image\n",
    "                img_path = os.path.join(os.path.join(dataset, folder), file)\n",
    "\n",
    "                # Open and resize the img\n",
    "                image = cv2.imread(img_path)\n",
    "                image = cv2.cvtColor(image, cv2.COLOR_BGR2RGB)\n",
    "                image = cv2.resize(image, IMAGE_SIZE)\n",
    "\n",
    "                # Append the image and its corresponding label to the output\n",
    "                images.append(image)\n",
    "                labels.append(label)\n",
    "\n",
    "        images = np.array(images, dtype = 'float32')\n",
    "        labels = np.array(labels, dtype = 'int32')\n",
    "\n",
    "        output.append((images, labels))\n",
    "\n",
    "    return output"
   ]
  },
  {
   "cell_type": "code",
   "execution_count": 4,
   "metadata": {
    "colab": {
     "base_uri": "https://localhost:8080/"
    },
    "executionInfo": {
     "elapsed": 104205,
     "status": "ok",
     "timestamp": 1709724843174,
     "user": {
      "displayName": "pantech e learning",
      "userId": "02085171050783995221"
     },
     "user_tz": -330
    },
    "id": "yaUtXn7-aJf0",
    "outputId": "45c0d114-7ff5-456e-89d3-618cae7de79e"
   },
   "outputs": [
    {
     "name": "stdout",
     "output_type": "stream",
     "text": [
      "Loading C:\\Users\\LENOVO\\Downloads\\gas-lekage/train\n"
     ]
    },
    {
     "ename": "FileNotFoundError",
     "evalue": "[WinError 3] The system cannot find the path specified: 'C:\\\\Users\\\\LENOVO\\\\Downloads\\\\gas-lekage/train'",
     "output_type": "error",
     "traceback": [
      "\u001b[1;31m---------------------------------------------------------------------------\u001b[0m",
      "\u001b[1;31mFileNotFoundError\u001b[0m                         Traceback (most recent call last)",
      "Cell \u001b[1;32mIn[4], line 1\u001b[0m\n\u001b[1;32m----> 1\u001b[0m (train_images, train_labels), (test_images, test_labels) \u001b[38;5;241m=\u001b[39m load_data()\n",
      "Cell \u001b[1;32mIn[3], line 16\u001b[0m, in \u001b[0;36mload_data\u001b[1;34m()\u001b[0m\n\u001b[0;32m     13\u001b[0m \u001b[38;5;28mprint\u001b[39m(\u001b[38;5;124m\"\u001b[39m\u001b[38;5;124mLoading \u001b[39m\u001b[38;5;132;01m{}\u001b[39;00m\u001b[38;5;124m\"\u001b[39m\u001b[38;5;241m.\u001b[39mformat(dataset))\n\u001b[0;32m     15\u001b[0m \u001b[38;5;66;03m# Iterate through each folder corresponding to a category\u001b[39;00m\n\u001b[1;32m---> 16\u001b[0m \u001b[38;5;28;01mfor\u001b[39;00m folder \u001b[38;5;129;01min\u001b[39;00m os\u001b[38;5;241m.\u001b[39mlistdir(dataset):\n\u001b[0;32m     17\u001b[0m     label \u001b[38;5;241m=\u001b[39m class_names_label[folder]\n\u001b[0;32m     19\u001b[0m     \u001b[38;5;66;03m# Iterate through each image in our folder\u001b[39;00m\n",
      "\u001b[1;31mFileNotFoundError\u001b[0m: [WinError 3] The system cannot find the path specified: 'C:\\\\Users\\\\LENOVO\\\\Downloads\\\\gas-lekage/train'"
     ]
    }
   ],
   "source": [
    "(train_images, train_labels), (test_images, test_labels) = load_data()"
   ]
  },
  {
   "cell_type": "code",
   "execution_count": null,
   "metadata": {
    "id": "Pt_whTHjaJf0"
   },
   "outputs": [],
   "source": [
    "train_images, train_labels = shuffle(train_images, train_labels, random_state=25)"
   ]
  },
  {
   "cell_type": "code",
   "execution_count": null,
   "metadata": {
    "colab": {
     "base_uri": "https://localhost:8080/"
    },
    "executionInfo": {
     "elapsed": 3,
     "status": "ok",
     "timestamp": 1709724850355,
     "user": {
      "displayName": "pantech e learning",
      "userId": "02085171050783995221"
     },
     "user_tz": -330
    },
    "id": "NVk4qT3JaJf0",
    "outputId": "78178299-6bd1-4b73-9740-d8906b228e0d"
   },
   "outputs": [],
   "source": [
    "n_train = train_labels.shape[0]\n",
    "n_test = test_labels.shape[0]\n",
    "\n",
    "print (\"Number of training examples: {}\".format(n_train))\n",
    "print (\"Number of testing examples: {}\".format(n_test))\n",
    "print (\"Each image is of size: {}\".format(IMAGE_SIZE))"
   ]
  },
  {
   "cell_type": "code",
   "execution_count": null,
   "metadata": {
    "colab": {
     "base_uri": "https://localhost:8080/",
     "height": 582
    },
    "executionInfo": {
     "elapsed": 608,
     "status": "ok",
     "timestamp": 1709724853506,
     "user": {
      "displayName": "pantech e learning",
      "userId": "02085171050783995221"
     },
     "user_tz": -330
    },
    "id": "y84npp_faJf1",
    "outputId": "4f95b697-010f-4ff3-e74f-52167f597817"
   },
   "outputs": [],
   "source": [
    "import pandas as pd\n",
    "\n",
    "_, train_counts = np.unique(train_labels, return_counts=True)\n",
    "_, test_counts = np.unique(test_labels, return_counts=True)\n",
    "pd.DataFrame({'train': train_counts,\n",
    "                    'test': test_counts},\n",
    "             index=class_names\n",
    "            ).plot.bar()\n",
    "plt.show()"
   ]
  },
  {
   "cell_type": "code",
   "execution_count": null,
   "metadata": {
    "colab": {
     "base_uri": "https://localhost:8080/",
     "height": 432
    },
    "executionInfo": {
     "elapsed": 646,
     "status": "ok",
     "timestamp": 1709724856064,
     "user": {
      "displayName": "pantech e learning",
      "userId": "02085171050783995221"
     },
     "user_tz": -330
    },
    "id": "iGS02IvfaJf1",
    "outputId": "f22c7386-1dbe-4aa7-9072-deb277b6d4e1"
   },
   "outputs": [],
   "source": [
    "plt.pie(train_counts,\n",
    "        explode=(0,0,0,0,) ,\n",
    "        labels=class_names,\n",
    "        autopct='%1.1f%%')\n",
    "plt.axis('equal')\n",
    "plt.title('Proportion of each observed category')\n",
    "plt.show()"
   ]
  },
  {
   "cell_type": "markdown",
   "metadata": {
    "id": "mn7t-kBaaJf1"
   },
   "source": [
    "## Good practice: scale the data"
   ]
  },
  {
   "cell_type": "code",
   "execution_count": null,
   "metadata": {
    "id": "PjvvUfHhaJf1"
   },
   "outputs": [],
   "source": [
    "train_images = train_images / 255.0\n",
    "test_images = test_images / 255.0"
   ]
  },
  {
   "cell_type": "markdown",
   "metadata": {
    "id": "KCMIyEESaJf2"
   },
   "source": [
    "## Visualize the data\n",
    "We can display a random image from the training set."
   ]
  },
  {
   "cell_type": "code",
   "execution_count": null,
   "metadata": {
    "id": "3Dt9bQv5aJf2"
   },
   "outputs": [],
   "source": [
    "def display_random_image(class_names, images, labels):\n",
    "\n",
    "\n",
    "    index = np.random.randint(images.shape[0])\n",
    "    plt.figure()\n",
    "    plt.imshow(images[index])\n",
    "    plt.xticks([])\n",
    "    plt.yticks([])\n",
    "    plt.grid(False)\n",
    "    plt.title('Image #{} : '.format(index) + class_names[labels[index]])\n",
    "    plt.show()"
   ]
  },
  {
   "cell_type": "code",
   "execution_count": null,
   "metadata": {
    "colab": {
     "base_uri": "https://localhost:8080/",
     "height": 432
    },
    "executionInfo": {
     "elapsed": 10,
     "status": "ok",
     "timestamp": 1709724866254,
     "user": {
      "displayName": "pantech e learning",
      "userId": "02085171050783995221"
     },
     "user_tz": -330
    },
    "id": "3_A4BxtXaJf2",
    "outputId": "64b79c59-1877-4081-c31b-23297460b843"
   },
   "outputs": [],
   "source": [
    "display_random_image(class_names, train_images, train_labels)"
   ]
  },
  {
   "cell_type": "code",
   "execution_count": null,
   "metadata": {
    "id": "SFnggbV0aJf2"
   },
   "outputs": [],
   "source": [
    "def display_examples(class_names, images, labels):\n",
    "    \"\"\"\n",
    "        Display 25 images from the images array with its corresponding labels\n",
    "    \"\"\"\n",
    "\n",
    "    fig = plt.figure(figsize=(10,10))\n",
    "    fig.suptitle(\"Some examples of images of the dataset\", fontsize=16)\n",
    "    for i in range(25):\n",
    "        plt.subplot(5,5,i+1)\n",
    "        plt.xticks([])\n",
    "        plt.yticks([])\n",
    "        plt.grid(False)\n",
    "        plt.imshow(images[i], cmap=plt.cm.binary)\n",
    "        plt.xlabel(class_names[labels[i]])\n",
    "    plt.show()"
   ]
  },
  {
   "cell_type": "code",
   "execution_count": null,
   "metadata": {
    "colab": {
     "base_uri": "https://localhost:8080/",
     "height": 935
    },
    "executionInfo": {
     "elapsed": 2038,
     "status": "ok",
     "timestamp": 1709724872044,
     "user": {
      "displayName": "pantech e learning",
      "userId": "02085171050783995221"
     },
     "user_tz": -330
    },
    "id": "CKSFa1xpaJf2",
    "outputId": "662b39ea-1d8e-41f1-f0a3-cfbf426aee1c"
   },
   "outputs": [],
   "source": [
    "display_examples(class_names, train_images, train_labels)"
   ]
  },
  {
   "cell_type": "code",
   "execution_count": null,
   "metadata": {
    "id": "LL6LlAQ1aJf2"
   },
   "outputs": [],
   "source": [
    "model = tf.keras.Sequential([\n",
    "    tf.keras.layers.Conv2D(32, (3, 3), activation = 'relu', input_shape = (150, 150, 3)),\n",
    "    tf.keras.layers.MaxPooling2D(2,2),\n",
    "    tf.keras.layers.Conv2D(32, (3, 3), activation = 'relu'),\n",
    "    tf.keras.layers.MaxPooling2D(2,2),\n",
    "    tf.keras.layers.Flatten(),\n",
    "    tf.keras.layers.Dense(128, activation=tf.nn.relu),\n",
    "    tf.keras.layers.Dense(14, activation=tf.nn.softmax)\n",
    "])"
   ]
  },
  {
   "cell_type": "code",
   "execution_count": null,
   "metadata": {
    "id": "By7GSejaaJf2"
   },
   "outputs": [],
   "source": [
    "model.compile(optimizer = 'adam', loss = 'sparse_categorical_crossentropy', metrics=['accuracy'])"
   ]
  },
  {
   "cell_type": "code",
   "execution_count": null,
   "metadata": {
    "colab": {
     "base_uri": "https://localhost:8080/"
    },
    "executionInfo": {
     "elapsed": 11352,
     "status": "ok",
     "timestamp": 1709724895013,
     "user": {
      "displayName": "pantech e learning",
      "userId": "02085171050783995221"
     },
     "user_tz": -330
    },
    "id": "vC64Q572aJf3",
    "outputId": "2f75a1cc-3205-4649-89aa-980d4e9fe56d"
   },
   "outputs": [],
   "source": [
    "history = model.fit(train_images, train_labels, batch_size=128, epochs=30, validation_split = 0.2)"
   ]
  },
  {
   "cell_type": "code",
   "execution_count": null,
   "metadata": {
    "colab": {
     "base_uri": "https://localhost:8080/"
    },
    "executionInfo": {
     "elapsed": 1713,
     "status": "ok",
     "timestamp": 1709725061749,
     "user": {
      "displayName": "pantech e learning",
      "userId": "02085171050783995221"
     },
     "user_tz": -330
    },
    "id": "rNbr_LmOaJf3",
    "outputId": "f25a375c-68dc-4e6d-fc41-4146289e58ae"
   },
   "outputs": [],
   "source": [
    "test_loss = model.evaluate(test_images, test_labels)"
   ]
  },
  {
   "cell_type": "code",
   "execution_count": null,
   "metadata": {
    "colab": {
     "base_uri": "https://localhost:8080/",
     "height": 561
    },
    "executionInfo": {
     "elapsed": 661,
     "status": "ok",
     "timestamp": 1709725067813,
     "user": {
      "displayName": "pantech e learning",
      "userId": "02085171050783995221"
     },
     "user_tz": -330
    },
    "id": "I81mFGAbcR2d",
    "outputId": "c1178e68-d821-41ba-e7b7-298f599c5409"
   },
   "outputs": [],
   "source": [
    "import matplotlib.image as mpimg\n",
    "import matplotlib.pyplot as plt\n",
    "\n",
    "from tensorflow.keras.preprocessing import image\n",
    "test_image = image.load_img(r'C:\\Users\\LENOVO\\Downloads\\gas-lekage\\test\\Smoke/52_Smoke.png', target_size = (150, 150))\n",
    "test_image = image.img_to_array(test_image)\n",
    "test_image = np.expand_dims(test_image, axis = 0)\n",
    "predictions = model.predict(test_image)     # Vector of probabilities\n",
    "pred_labels = np.argmax(predictions, axis = 1) # We take the highest probability\n",
    "print(pred_labels )\n",
    "index = np.random.randint(test_image.shape[0])\n",
    "plt.figure()\n",
    "plt.imshow(test_image[index].astype('uint8'))\n",
    "plt.xticks([])\n",
    "plt.yticks([])\n",
    "plt.grid(False)\n",
    "plt.title('Gas-Leakage output #{} : '.format(index) + class_names[pred_labels[index]])\n",
    "plt.show()"
   ]
  },
  {
   "cell_type": "code",
   "execution_count": null,
   "metadata": {
    "colab": {
     "base_uri": "https://localhost:8080/",
     "height": 450
    },
    "executionInfo": {
     "elapsed": 2198,
     "status": "ok",
     "timestamp": 1709725073724,
     "user": {
      "displayName": "pantech e learning",
      "userId": "02085171050783995221"
     },
     "user_tz": -330
    },
    "id": "cy3YIXHjZ-x8",
    "outputId": "ae7da54b-1451-451c-9efe-03017df63749"
   },
   "outputs": [],
   "source": [
    "predictions = model.predict(test_images)     # Vector of probabilities\n",
    "pred_labels = np.argmax(predictions, axis = 1) # We take the highest probability\n",
    "\n",
    "\n",
    "index = np.random.randint(test_images.shape[0])\n",
    "plt.figure()\n",
    "plt.imshow(test_images[index])\n",
    "plt.xticks([])\n",
    "plt.yticks([])\n",
    "plt.grid(False)\n",
    "plt.title('Image #{} : '.format(index) + class_names[pred_labels[index]])\n",
    "plt.show()"
   ]
  },
  {
   "cell_type": "code",
   "execution_count": null,
   "metadata": {
    "colab": {
     "base_uri": "https://localhost:8080/",
     "height": 466
    },
    "executionInfo": {
     "elapsed": 355,
     "status": "ok",
     "timestamp": 1709725076264,
     "user": {
      "displayName": "pantech e learning",
      "userId": "02085171050783995221"
     },
     "user_tz": -330
    },
    "id": "io7UXgDhZ-x9",
    "outputId": "04a12c06-846c-479a-fbe2-1029702b9109"
   },
   "outputs": [],
   "source": [
    "CM = confusion_matrix(test_labels, pred_labels)\n",
    "ax = plt.axes()\n",
    "sn.heatmap(CM, annot=True,\n",
    "           annot_kws={\"size\": 10},\n",
    "           xticklabels=class_names,\n",
    "           yticklabels=class_names, ax = ax)\n",
    "ax.set_title('Confusion matrix for Gas-Leakage')\n",
    "plt.show()"
   ]
  },
  {
   "cell_type": "code",
   "execution_count": null,
   "metadata": {},
   "outputs": [],
   "source": [
    "from sklearn.metrics import classification_report, precision_score, recall_score, f1_score, accuracy_score\n",
    "\n",
    "# Assuming CM is your confusion matrix, and you have class_names defined\n",
    "\n",
    "# Calculate overall precision, recall, and F1 score\n",
    "overall_precision = precision_score(test_labels, pred_labels, average='weighted')\n",
    "overall_recall = recall_score(test_labels, pred_labels, average='weighted')\n",
    "overall_f1 = f1_score(test_labels, pred_labels, average='weighted')\n",
    "\n",
    "# Calculate custom accuracy\n",
    "custom_accuracy = accuracy_score(test_labels, pred_labels)\n",
    "\n",
    "print(f'Precision: {overall_precision}')\n",
    "print(f'Recall: {overall_recall}')\n",
    "print(f'F1 Score: {overall_f1}')\n",
    "print(f'Custom Accuracy: {custom_accuracy}')"
   ]
  },
  {
   "cell_type": "code",
   "execution_count": null,
   "metadata": {},
   "outputs": [],
   "source": [
    "# Generate and print classification report\n",
    "print(\"\\nClassification Report:\")\n",
    "print(classification_report(test_labels, pred_labels, target_names=class_names))"
   ]
  },
  {
   "cell_type": "code",
   "execution_count": null,
   "metadata": {
    "colab": {
     "base_uri": "https://localhost:8080/",
     "height": 558
    },
    "executionInfo": {
     "elapsed": 739,
     "status": "ok",
     "timestamp": 1709725092994,
     "user": {
      "displayName": "pantech e learning",
      "userId": "02085171050783995221"
     },
     "user_tz": -330
    },
    "id": "jPX1KPJrZ-x9",
    "outputId": "28d616fc-1fbd-4f64-f316-36186917caa6"
   },
   "outputs": [],
   "source": [
    "import matplotlib.pyplot as plt\n",
    "import seaborn as sns\n",
    "from sklearn.metrics import classification_report\n",
    "from sklearn.metrics import confusion_matrix\n",
    "\n",
    "# Assuming test_labels and pred_labels are available\n",
    "\n",
    "# Generate classification report\n",
    "report = classification_report(test_labels, pred_labels, output_dict=True)\n",
    "\n",
    "# Convert the classification report to a DataFrame\n",
    "report_df = pd.DataFrame(report).transpose()\n",
    "\n",
    "# Plotting the heatmap\n",
    "plt.figure(figsize=(10, 6))\n",
    "sns.heatmap(report_df.iloc[:-1, :].astype(float), annot=True, cmap=\"YlGnBu\", fmt=\".2f\")\n",
    "plt.title('Classification Report')\n",
    "plt.show()\n"
   ]
  },
  {
   "cell_type": "code",
   "execution_count": null,
   "metadata": {
    "colab": {
     "base_uri": "https://localhost:8080/"
    },
    "executionInfo": {
     "elapsed": 5,
     "status": "ok",
     "timestamp": 1709725096291,
     "user": {
      "displayName": "pantech e learning",
      "userId": "02085171050783995221"
     },
     "user_tz": -330
    },
    "id": "IfZPeHZ3Z-x-",
    "outputId": "426baab3-2c37-4c7e-e2b7-7a2bd9ee01e3"
   },
   "outputs": [],
   "source": [
    "model.save_weights(\"model_gasleakage.weights.h5\")\n",
    "print(\"Saved model to disk\")"
   ]
  },
  {
   "cell_type": "code",
   "execution_count": null,
   "metadata": {
    "id": "PWrBy5w0Z-yD"
   },
   "outputs": [],
   "source": [
    "model_json=model.to_json()\n",
    "with open(\"model_gasleakage.json\", \"w\") as json_file:\n",
    "    json_file.write(model_json)"
   ]
  },
  {
   "cell_type": "code",
   "execution_count": null,
   "metadata": {
    "colab": {
     "background_save": true,
     "base_uri": "https://localhost:8080/"
    },
    "id": "4xGw7ANLZ-yD",
    "outputId": "256eaa6a-9caf-4e9d-b973-ae8d607d6dd7"
   },
   "outputs": [],
   "source": [
    "import cv2\n",
    "import numpy as np\n",
    "import matplotlib.pyplot as plt\n",
    "import numpy as np\n",
    "import os\n",
    "from keras.preprocessing import image\n",
    "from keras.models import Sequential\n",
    "from keras.layers import Dense\n",
    "from keras.models import model_from_json\n",
    "import tensorflow as tf\n",
    "from flask import Flask, render_template, request, send_from_directory\n",
    "\n",
    "app = Flask(__name__)\n",
    "\n",
    "\n",
    "UPLOAD_FOLDER = \"uploads\"\n",
    "STATIC_FOLDER = \"static\"\n",
    "json_file = open('model_gasleakage.json', 'r')\n",
    "loaded_model_json = json_file.read()\n",
    "json_file.close()\n",
    "#cnn_model = model_from_json(loaded_model_json)\n",
    "# load weights into new model\n",
    "#cnn_model.load_weights(\"model_vgg.weights.h5\")\n",
    "# Load model\n",
    "\n",
    "IMAGE_SIZE = 150\n",
    "\n",
    "# Preprocess an image\n",
    "def preprocess_image(image):\n",
    "    image = tf.image.decode_image(image, channels=3)\n",
    "    image = tf.image.resize(image, [IMAGE_SIZE, IMAGE_SIZE])\n",
    "    image /= 255.0  # normalize to [0,1] range\n",
    "\n",
    "    return image\n",
    "\n",
    "\n",
    "# Read the image from path and preprocess\n",
    "def load_and_preprocess_image(path):\n",
    "    image = tf.io.read_file(path)\n",
    "\n",
    "    return preprocess_image(image)\n",
    "\n",
    "\n",
    "# Predict & classify image\n",
    "# Predict & classify image\n",
    "def classify(model, image_path):\n",
    "    preprocessed_image = load_and_preprocess_image(image_path)\n",
    "    preprocessed_image = tf.reshape(preprocessed_image, (1, IMAGE_SIZE, IMAGE_SIZE, 3))\n",
    "\n",
    "    prob = model.predict(preprocessed_image)[0]\n",
    "    print(prob)\n",
    "\n",
    "    # Get the index of the maximum probability\n",
    "    predicted_label_index = np.argmax(prob)\n",
    "    \n",
    "    # Mapping index to label name\n",
    "    label_names = ['Mixture','NoGas','Perfume','Smoke']\n",
    "    # Replace with your actual label names\n",
    "    \n",
    "    label = label_names[predicted_label_index]\n",
    "    \n",
    "    classified_prob = prob[predicted_label_index]\n",
    "\n",
    "    return label, classified_prob\n",
    "\n",
    "\n",
    "\n",
    "# home page\n",
    "@app.route(\"/\")\n",
    "def home():\n",
    "    return render_template(\"home.html\")\n",
    "\n",
    "\n",
    "@app.route(\"/classify\", methods=[\"POST\", \"GET\"])\n",
    "def upload_file():\n",
    "\n",
    "    if request.method == \"GET\":\n",
    "        return render_template(\"home.html\")\n",
    "\n",
    "    else:\n",
    "        file = request.files[\"image\"]\n",
    "        upload_image_path = os.path.join(UPLOAD_FOLDER, file.filename)\n",
    "        print(upload_image_path)\n",
    "        file.save(upload_image_path)\n",
    "\n",
    "        label, prob = classify(model, upload_image_path)\n",
    "\n",
    "        prob = round((prob * 100), 2)\n",
    "\n",
    "    return render_template(\n",
    "        \"classify.html\", image_file_name=file.filename, label=label, prob=prob\n",
    "    )\n",
    "\n",
    "\n",
    "@app.route(\"/classify/<filename>\")\n",
    "def send_file(filename):\n",
    "    return send_from_directory(UPLOAD_FOLDER, filename)\n",
    "\n",
    "\n",
    "if __name__ == \"__main__\":\n",
    "    \n",
    "    app.run()\n",
    "   \n"
   ]
  },
  {
   "cell_type": "code",
   "execution_count": null,
   "metadata": {
    "id": "1tpk8eL2jqin"
   },
   "outputs": [],
   "source": []
  }
 ],
 "metadata": {
  "colab": {
   "provenance": []
  },
  "kernelspec": {
   "display_name": "Python 3 (ipykernel)",
   "language": "python",
   "name": "python3"
  },
  "language_info": {
   "codemirror_mode": {
    "name": "ipython",
    "version": 3
   },
   "file_extension": ".py",
   "mimetype": "text/x-python",
   "name": "python",
   "nbconvert_exporter": "python",
   "pygments_lexer": "ipython3",
   "version": "3.11.7"
  }
 },
 "nbformat": 4,
 "nbformat_minor": 4
}
